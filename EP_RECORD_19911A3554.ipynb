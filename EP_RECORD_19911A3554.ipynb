{
  "nbformat": 4,
  "nbformat_minor": 0,
  "metadata": {
    "colab": {
      "name": "EP_RECORD_19911A3554",
      "provenance": []
    },
    "kernelspec": {
      "display_name": "Python 3",
      "name": "python3"
    },
    "language_info": {
      "name": "python"
    }
  },
  "cells": [
    {
      "cell_type": "markdown",
      "metadata": {
        "id": "nkDpmxY-lTRW"
      },
      "source": [
        "\n",
        "**Exercise-1**"
      ]
    },
    {
      "cell_type": "markdown",
      "metadata": {
        "id": "N7YkUIDSlOS4"
      },
      "source": [
        "b) Write a program to demonstrate the use of basic Data Types\n"
      ]
    },
    {
      "cell_type": "code",
      "metadata": {
        "colab": {
          "base_uri": "https://localhost:8080/"
        },
        "id": "HXsC2O-Ac9cF",
        "outputId": "2b0850e3-91e4-4d6a-f54f-3651b7f1d927"
      },
      "source": [
        "#int\n",
        "a=int(input(\"enter num\"))\n",
        "b=int(input(\"enter num\"))\n",
        "c=a+b\n",
        "print(\"sum is\",c)\n",
        "#float\n",
        "a=float(input(\"enter num\"))\n",
        "b=float(input(\"enter num\"))\n",
        "c=a+b\n",
        "print(\"sum is\",c)\n",
        "#complex\n",
        "a=complex(input(\"enter num\"))\n",
        "b=complex(input(\"enter num\"))\n",
        "c=a+b\n",
        "print(\"sum is\",c)\n",
        "#BOOLEAN\n",
        "print(20 >19)\n",
        "print(20 == 19)\n",
        "print(20 < 19)\n",
        "#SET\n",
        "Set = {1,2,3,4,5}\n",
        "print(Set)\n",
        "Set = {4.8, \"Hello\", (1, 2, 3,4,5)}\n",
        "print(Set)\n",
        "#SEQUENCE TYPE\n",
        "#Strings\n",
        "my_string = \"Hello\"\n",
        "print(my_string)\n",
        "my_string = \"\"\"Hello, I'm Gowthami\"\"\"\n",
        "print(my_string)\n",
        "print(my_string[2:8])\n",
        "print(my_string[:-8])\n",
        "#list\n",
        "my_list = ['a','b','c','d','e']\n",
        "print(my_list)\n",
        "print(my_list[3])\n",
        "print(my_list[-4])\n",
        "#Tuple\n",
        "t=('Gowthami','Srija','Jessi','Mythri','revathi','Deepu')\n",
        "print(t)\n",
        "print(t[0])\n",
        "print(t[2:5])\n",
        "#DICTIONARY\n",
        "my_dict = {'name': 'Gowtham', 'age': 19}\n",
        "print(my_dict)\n",
        "print(my_dict['name'])"
      ],
      "execution_count": null,
      "outputs": [
        {
          "output_type": "stream",
          "text": [
            "enter num324\n",
            "enter num45\n",
            "sum is 369\n",
            "enter num34\n",
            "enter num78\n",
            "sum is 112.0\n",
            "enter num67\n",
            "enter num78\n",
            "sum is (145+0j)\n",
            "True\n",
            "False\n",
            "False\n",
            "{1, 2, 3, 4, 5}\n",
            "{(1, 2, 3, 4, 5), 4.8, 'Hello'}\n",
            "Hello\n",
            "Hello, I'm Gowthami\n",
            "llo, I\n",
            "Hello, I'm \n",
            "['a', 'b', 'c', 'd', 'e']\n",
            "d\n",
            "b\n",
            "('Gowthami', 'Srija', 'Jessi', 'Mythri', 'revathi', 'Deepu')\n",
            "Gowthami\n",
            "('Jessi', 'Mythri', 'revathi')\n",
            "{'name': 'Gowtham', 'age': 19}\n",
            "Gowtham\n"
          ],
          "name": "stdout"
        }
      ]
    },
    {
      "cell_type": "markdown",
      "metadata": {
        "id": "9fyPHTwSsakH"
      },
      "source": [
        "c) Write a program to demonstrate the Operators and Expressions"
      ]
    },
    {
      "cell_type": "code",
      "metadata": {
        "colab": {
          "base_uri": "https://localhost:8080/"
        },
        "id": "vqVB1D6hcUHX",
        "outputId": "f665d8f4-4f71-4ff8-b1b0-dee345846e2b"
      },
      "source": [
        "#OPERATORS\n",
        "#Arithmetic operators\n",
        "a = int(input(\"Enter a num\"))\n",
        "b = int(input(\"Enter a num\"))\n",
        "add = a + b  \n",
        "sub = a - b  \n",
        "mul = a * b  \n",
        "div1 = a / b \n",
        "div2 = a // b  \n",
        "mod = a % b  \n",
        "p = a ** b\n",
        "print(add) \n",
        "print(sub) \n",
        "print(mul) \n",
        "print(div1) \n",
        "print(div2) \n",
        "print(mod)\n",
        "print(p)\n",
        "#Relatinal operators\n",
        "print(a > b)\n",
        "print(a < b)\n",
        "print(a == b)\n",
        "print(a != b)\n",
        "print(a >= b)\n",
        "print(a <= b)\n",
        "#Bitwise operators\n",
        "print(a & b)  \n",
        "print(a | b)\n",
        "print(~a) \n",
        "print(a ^ b) \n",
        "print(a >> 4) \n",
        "print(a << 4)\n",
        "#Identity operators\n",
        "print(a is not b) \n",
        "print(a is b)\n",
        "#Logical operators\n",
        "A=True\n",
        "B=False\n",
        "print(A and B)\n",
        "print(A or B)\n",
        "print(not A)\n",
        "print(not B)\n",
        "#Assignment operators\n",
        "a+=b\n",
        "print(a)\n",
        "a-=b\n",
        "print(a)\n",
        "a*=b\n",
        "print(a)\n",
        "a/=b\n",
        "print(a)\n",
        "a%=b\n",
        "print(a)\n",
        "a//=b\n",
        "print(a)\n",
        "a**=b\n",
        "print(a)\n",
        "#Membership operators\n",
        "x = 'dept of AI'\n",
        "y = {1:'a',2:'b'}\n",
        "print('D' in x)\n",
        "print('of' not in x)\n",
        "print('Of' not in x)\n",
        "print(1 in y)\n",
        "print('e' in y)"
      ],
      "execution_count": null,
      "outputs": [
        {
          "output_type": "stream",
          "text": [
            "Enter a num8\n",
            "Enter a num7\n",
            "15\n",
            "1\n",
            "56\n",
            "1.1428571428571428\n",
            "1\n",
            "1\n",
            "2097152\n",
            "True\n",
            "False\n",
            "False\n",
            "True\n",
            "True\n",
            "False\n",
            "0\n",
            "15\n",
            "-9\n",
            "15\n",
            "0\n",
            "128\n",
            "True\n",
            "False\n",
            "False\n",
            "True\n",
            "False\n",
            "True\n",
            "15\n",
            "8\n",
            "56\n",
            "8.0\n",
            "1.0\n",
            "0.0\n",
            "0.0\n",
            "False\n",
            "False\n",
            "True\n",
            "True\n",
            "False\n"
          ],
          "name": "stdout"
        }
      ]
    },
    {
      "cell_type": "markdown",
      "metadata": {
        "id": "1RQd8dz8tJ4n"
      },
      "source": [
        "**d) Write a program to demonstrate the Functions and parameter passing Techniques**"
      ]
    },
    {
      "cell_type": "code",
      "metadata": {
        "colab": {
          "base_uri": "https://localhost:8080/"
        },
        "id": "1rXLne1nm-5g",
        "outputId": "14a05f13-37e0-41d3-adf3-a47797774fe5"
      },
      "source": [
        "def my_function():\n",
        "  print(\"Hi!I'm Gowthami and I'm from AIE department\")\n",
        "my_function()\n",
        "def my_dept(dept):\n",
        "  print(\"Hi!I'm Gowthami\"+dept)\n",
        "my_dept(\"Artificial intelligence\")\n",
        "my_dept(\"Computer science\")\n",
        "my_dept(\"Machine learning\")\n",
        "print(\"__________________\")\n",
        "#keyword arguments\n",
        "print(\"KEYWORD ARGUMENTS\")\n",
        "def keyarg(name, age):\n",
        "    print(\"name = \" , name)\n",
        "    print(\"age = \", age )\n",
        "keyarg(age=18, name=\"reva\")\n",
        "print(\"..................\")\n",
        "#Default arguments\n",
        "print(\"DEFAULT ARGUMENTS\")\n",
        "def defaultarg(name, age=18):\n",
        "    print(\"name = \" , name)\n",
        "    print(\"age = \", age )\n",
        "defaultarg (name= \"Sonu\", age=20)\n",
        "defaultarg (name=\"reva\")\n",
        "print(\"..................\")\n",
        "#Variable-length arguments\n",
        "print(\"VARIABLE-LENGTH ARGUMENTS\")\n",
        "def vararg(name, *course):\n",
        "    print(\"name = \", name)\n",
        "    print(\"course = \", course)\n",
        "vararg('Gowtham', 'Mathematics')\n",
        "vararg('Revathi', 'Python', 'Data Structures','Mathematics')\n",
        "\n"
      ],
      "execution_count": null,
      "outputs": [
        {
          "output_type": "stream",
          "text": [
            "Hi!I'm Gowthami and I'm from AIE department\n",
            "Hi!I'm GowthamiArtificial intelligence\n",
            "Hi!I'm GowthamiComputer science\n",
            "Hi!I'm GowthamiMachine learning\n",
            "__________________\n",
            "KEYWORD ARGUMENTS\n",
            "name =  reva\n",
            "age =  18\n",
            "..................\n",
            "DEFAULT ARGUMENTS\n",
            "name =  Sonu\n",
            "age =  20\n",
            "name =  reva\n",
            "age =  18\n",
            "..................\n",
            "VARIABLE-LENGTH ARGUMENTS\n",
            "name =  Gowtham\n",
            "course =  ('Mathematics',)\n",
            "name =  Revathi\n",
            "course =  ('Python', 'Data Structures', 'Mathematics')\n"
          ],
          "name": "stdout"
        }
      ]
    },
    {
      "cell_type": "markdown",
      "metadata": {
        "id": "ZE3zEI3pxzHJ"
      },
      "source": [
        "**Exercise-2**"
      ]
    },
    {
      "cell_type": "markdown",
      "metadata": {
        "id": "YfRJgk6oyTHn"
      },
      "source": [
        "a) Write a Program to implement\n",
        "\n",
        "i.Packages \n",
        "\n",
        "ii.Modules \n",
        "\n",
        "iii.Built-in Functions\n"
      ]
    },
    {
      "cell_type": "code",
      "metadata": {
        "colab": {
          "base_uri": "https://localhost:8080/"
        },
        "id": "Mo9SoZzS8K2c",
        "outputId": "6b5cbcbb-b708-4b47-b228-b9839110d05b"
      },
      "source": [
        "#iii.Build in functions\n",
        "print('Absolute of -10.589 = ', abs(-10.589))\n",
        "print(\"Binary Equalent of 16\", bin(16))\n",
        "print(\"Quotient and remainder of 10/5 = \" , divmod(10,5))\n",
        "print(\"float value of 10 = \", float(10))\n",
        "print(\"int value of 10.2 =\", int(10.2))\n",
        "print(\"Maximum of 10,20,30 = \", max(10,20,30))\n",
        "print(\"Minimum of 10,20,30 = \", min(10,20,30))\n",
        "print(\"2 power 4 = \", pow(2,4))\n",
        "x=2\n",
        "print(\"Evaluate value of x**2 = \",eval('x**2'))\n",
        "import math\n",
        "print(\"Square root of 25 = \" ,math.sqrt(25))\n"
      ],
      "execution_count": null,
      "outputs": [
        {
          "output_type": "stream",
          "text": [
            "Absolute of -10.589 =  10.589\n",
            "Binary Equalent of 16 0b10000\n",
            "Quotient and remainder of 10/5 =  (2, 0)\n",
            "float value of 10 =  10.0\n",
            "int value of 10.2 = 10\n",
            "Maximum of 10,20,30 =  30\n",
            "Minimum of 10,20,30 =  10\n",
            "2 power 4 =  16\n",
            "Evaluate value of x**2 =  4\n",
            "Square root of 25 =  5.0\n"
          ],
          "name": "stdout"
        }
      ]
    },
    {
      "cell_type": "markdown",
      "metadata": {
        "id": "esZ_rS9-Fy0I"
      },
      "source": [
        "b) Write a Program to implement\n",
        "i. List\n",
        "\n",
        "ii. Tuple\n",
        " \n",
        "iii. Dictionaries"
      ]
    },
    {
      "cell_type": "code",
      "metadata": {
        "colab": {
          "base_uri": "https://localhost:8080/"
        },
        "id": "22djHz_xz9W7",
        "outputId": "f0c3ca94-cc02-4480-b372-a160f6db2231"
      },
      "source": [
        "#1)list\n",
        "my_list = ['a','b','c','d','e']\n",
        "print(my_list)\n",
        "print(my_list[2])\n",
        "print(my_list[-1])\n",
        "print(type(my_list))\n",
        "print(\"_____________\")\n",
        "#2)Tuple\n",
        "tup=('gowtham','srija','jessi','revathi','mythri','deepu')\n",
        "tup1=(5,6)\n",
        "tup2=(1,8)\n",
        "print(tup)\n",
        "print(tup[0])\n",
        "if (tup1>tup2):print( \"tup1 is bigger\")\n",
        "else: print(\"tup2 is bigger\")\n",
        "print(type(tup))\n",
        "print(\"_____________\")\n",
        "#3)DICTIONARY\n",
        "my_dict = {'name': 'gowtham', 'age': 19}\n",
        "print(my_dict)\n",
        "print(my_dict['name'])\n",
        "print(my_dict.get('age'))\n",
        "my_dict.update({'Branch':'ML','marks':20})\n",
        "print(my_dict)\n",
        "del my_dict['marks']\n",
        "print(my_dict)\n",
        "my_dict['marks']='20'\n",
        "print(my_dict)\n",
        "my_dict.pop(\"marks\")\n",
        "print(my_dict)\n",
        "print(type(my_dict))"
      ],
      "execution_count": null,
      "outputs": [
        {
          "output_type": "stream",
          "text": [
            "['a', 'b', 'c', 'd', 'e']\n",
            "c\n",
            "e\n",
            "<class 'list'>\n",
            "_____________\n",
            "('gowtham', 'srija', 'jessi', 'revathi', 'mythri', 'deepu')\n",
            "gowtham\n",
            "tup1 is bigger\n",
            "<class 'tuple'>\n",
            "_____________\n",
            "{'name': 'gowtham', 'age': 19}\n",
            "gowtham\n",
            "19\n",
            "{'name': 'gowtham', 'age': 19, 'Branch': 'ML', 'marks': 20}\n",
            "{'name': 'gowtham', 'age': 19, 'Branch': 'ML'}\n",
            "{'name': 'gowtham', 'age': 19, 'Branch': 'ML', 'marks': '20'}\n",
            "{'name': 'gowtham', 'age': 19, 'Branch': 'ML'}\n",
            "<class 'dict'>\n"
          ],
          "name": "stdout"
        }
      ]
    },
    {
      "cell_type": "markdown",
      "metadata": {
        "id": "KTZi_tfHHhc7"
      },
      "source": [
        "c) Programs on Stings, String Operations and Regular Expressions\n"
      ]
    },
    {
      "cell_type": "code",
      "metadata": {
        "colab": {
          "base_uri": "https://localhost:8080/"
        },
        "id": "S3ZZ7AHYSWgZ",
        "outputId": "48513b77-571d-47fd-e08a-ad9adb4ecf47"
      },
      "source": [
        "#Strings\n",
        "str=\"vidya jyoti institute of technology\"\n",
        "print(str)\n",
        "print(type(str))\n",
        "#String Operations\n",
        "#Slicing strings\n",
        "print(str[2:10])\n",
        "print(str[:10])\n",
        "print(str[-7:-2])\n",
        "#upper case\n",
        "x = str.upper()\n",
        "print(x)\n",
        "#lower case\n",
        "x=str.lower()\n",
        "print(x)\n",
        "#Replace\n",
        "x= str.replace(\"vidya\",\"VIDYA\")\n",
        "print(x)\n",
        "#Concatenation strings\n",
        "a='Hello'\n",
        "b='Welcome'\n",
        "c= a +\" \" +b\n",
        "print(c)\n",
        "#format strings\n",
        "age = 19\n",
        "str2 = \"My name is Gowthami, and I am {}\"\n",
        "print(str2.format(age))\n",
        "#Regular expressions\n",
        "import re\n",
        "e= \" Hi,i am gowthami\"\n",
        "n= re.findall('[A-Z]', e)\n",
        "print(n)\n",
        "#compile\n",
        "p = re.compile('\\d')\n",
        "print(p.findall(\"I went to him at 11 A.M. on 4th July 1886\"))\n",
        "p = re.compile('\\d+')\n",
        "print(p.findall(\"I went to him at 11 A.M. on 4th July 1886\"))"
      ],
      "execution_count": null,
      "outputs": [
        {
          "output_type": "stream",
          "text": [
            "vidya jyoti institute of technology\n",
            "<class 'str'>\n",
            "dya jyot\n",
            "vidya jyot\n",
            "hnolo\n",
            "VIDYA JYOTI INSTITUTE OF TECHNOLOGY\n",
            "vidya jyoti institute of technology\n",
            "VIDYA jyoti institute of technology\n",
            "Hello Welcome\n",
            "My name is Gowthami, and I am 19\n",
            "['H']\n",
            "['1', '1', '4', '1', '8', '8', '6']\n",
            "['11', '4', '1886']\n"
          ],
          "name": "stdout"
        }
      ]
    },
    {
      "cell_type": "markdown",
      "metadata": {
        "id": "PlktjVz0IUSk"
      },
      "source": [
        "**Exercise-3**"
      ]
    },
    {
      "cell_type": "markdown",
      "metadata": {
        "id": "RpTeEkkSIku_"
      },
      "source": [
        "a) Write a Program to implement Class and Object\n"
      ]
    },
    {
      "cell_type": "code",
      "metadata": {
        "colab": {
          "base_uri": "https://localhost:8080/"
        },
        "id": "dy-ITPT3fdLa",
        "outputId": "83858aff-9071-4080-9ab0-d5413052b903"
      },
      "source": [
        "##1)\tBasic Program on Class and Object\n",
        "class Train:\n",
        "    # class attributes\n",
        "    name=input(\"Enter Train Name: \")\n",
        "    no=input(\"Enter Train Number: \")\n",
        "    price=int(input(\"Enter Price: \"))\n",
        "    \n",
        "    # class methods\n",
        "    def disp(self):\n",
        "        print(\"inside the class method..\")\n",
        "    def status(self,source,destination):\n",
        "        print(\"Train starts from \",source,\" and ends at \",destination)\n",
        "        \n",
        "# Creating an object for Train Class        \n",
        "T1=Train()\n",
        "\n",
        "# Accessing variables\n",
        "print(\"T1 Name: \",T1.name)\n",
        "print(\"T1 no: \",T1.no)\n",
        "print(\"price: \",T1.price)\n",
        "\n",
        "# Calling a Class methods\n",
        "T1.disp()\n",
        "T1.status('Hyderabad','Mumbai')"
      ],
      "execution_count": null,
      "outputs": [
        {
          "output_type": "stream",
          "text": [
            "Enter Train Name: 2345\n",
            "Enter Train Number: 4567\n",
            "Enter Price: 540\n",
            "T1 Name:  2345\n",
            "T1 no:  4567\n",
            "price:  540\n",
            "inside the class method..\n",
            "Train starts from  Hyderabad  and ends at  Mumbai\n"
          ],
          "name": "stdout"
        }
      ]
    },
    {
      "cell_type": "markdown",
      "metadata": {
        "id": "BpJkHuW7JLyG"
      },
      "source": [
        "b) Write a Program to implement Static and Instance methods, Abstract Classes and Interfaces.\n"
      ]
    },
    {
      "cell_type": "code",
      "metadata": {
        "colab": {
          "base_uri": "https://localhost:8080/"
        },
        "id": "5-kr8kpnkTVW",
        "outputId": "c8dec1a7-f941-4570-af17-259b7f73a712"
      },
      "source": [
        "print(\"STATIC AND INSTANCE METHODS\")\n",
        "class Shape:\n",
        "    def rectArea(self,l,b):\n",
        "        return(l*b)\n",
        "    @classmethod\n",
        "    def sqArea(cls,s):\n",
        "        return(s*s)\n",
        "    @staticmethod\n",
        "    def CircleArea(r):\n",
        "        return(3.14*r*r)\n",
        "s=Shape()        \n",
        "print(\"Area of Rectangle = \",s.rectArea(2,4))\n",
        "#calling a class method\n",
        "print(\"Area of Square = \",Shape.sqArea(3))\n",
        "#calling a static method\n",
        "print(\"Area of Circle = \",Shape.CircleArea(2)) "
      ],
      "execution_count": null,
      "outputs": [
        {
          "output_type": "stream",
          "text": [
            "STATIC AND INSTANCE METHODS\n",
            "Area of Rectangle =  8\n",
            "Area of Square =  9\n",
            "Area of Circle =  12.56\n"
          ],
          "name": "stdout"
        }
      ]
    },
    {
      "cell_type": "markdown",
      "metadata": {
        "id": "5KmugTlYJ1JA"
      },
      "source": [
        "c) Write a program to compute distance between two points taking input from the user (Pythagorean Theorem)"
      ]
    },
    {
      "cell_type": "code",
      "metadata": {
        "colab": {
          "base_uri": "https://localhost:8080/"
        },
        "id": "UqTS26_yNrYZ",
        "outputId": "302f0536-3cc8-4674-ce90-5a7cd2917148"
      },
      "source": [
        "x1=int(input(\"enter x1 : \"))\n",
        "x2=int(input(\"enter x2 : \"))\n",
        "y1=int(input(\"enter y1 : \"))\n",
        "y2=int(input(\"enter y2 : \"))\n",
        "result= ((((x2 - x1 )**2) + ((y2-y1)**2) )**0.5)\n",
        "print(\"distance between\",(x1,x2),\"and\",(y1,y2),\"is : \",result)"
      ],
      "execution_count": null,
      "outputs": [
        {
          "output_type": "stream",
          "text": [
            "enter x1 : 12\n",
            "enter x2 : 34\n",
            "enter y1 : 54\n",
            "enter y2 : 67\n",
            "distance between (12, 34) and (54, 67) is :  25.553864678361276\n"
          ],
          "name": "stdout"
        }
      ]
    },
    {
      "cell_type": "markdown",
      "metadata": {
        "id": "jjTd7kdGKILA"
      },
      "source": [
        "**Exercise-4**"
      ]
    },
    {
      "cell_type": "markdown",
      "metadata": {
        "id": "ACAY6ok0KUwO"
      },
      "source": [
        "a) Write a program to implement Inheritance and Polymorphism"
      ]
    },
    {
      "cell_type": "code",
      "metadata": {
        "colab": {
          "base_uri": "https://localhost:8080/"
        },
        "id": "EjRLMxX0OWBU",
        "outputId": "1a87ff51-38f4-4fc3-fcdc-8adefd1a0ec7"
      },
      "source": [
        "print(\"Single inheritance\")\n",
        "class parent:\n",
        "    def f1(self):\n",
        "        print(\"fun1\")\n",
        "class child(parent):\n",
        "    def f2(self):\n",
        "        print(\"fun2\")\n",
        "ob=child()\n",
        "ob.f1()\n",
        "print(\"Multiple inheritence\")\n",
        "class parent1:\n",
        "    def f1(self):\n",
        "        print(\"fun1\")\n",
        "class parent2:\n",
        "    def f2(self):\n",
        "        print(\"fun2\")\n",
        "class child(parent1,parent2):\n",
        "    def f3(self):\n",
        "        print(\"fun3\")\n",
        "ob=child()\n",
        "ob.f1()\n",
        "ob.f2()\n",
        "print(\"Multilevel inheritance\")\n",
        "class parent1:\n",
        "    def f1(self):\n",
        "        print(\"fun1\")\n",
        "class parent2(parent1):\n",
        "    def f2(self):\n",
        "        print(\"fun2\")\n",
        "class child(parent2):\n",
        "    def f3(self):\n",
        "        print(\"fun3\")\n",
        "ob=child()\n",
        "ob.f1()\n",
        "ob.f2()\n",
        "print(\"Hierarihcal inheritance\")\n",
        "class parent:\n",
        "    def f1(self):\n",
        "        print(\"fun1\")\n",
        "class child1(parent):\n",
        "    def f2(self):\n",
        "        print(\"fun2\")\n",
        "class child2(parent):\n",
        "    def f3(self):\n",
        "        print(\"fun3\")\n",
        "ob=child2()\n",
        "ob.f1()\n",
        "ob.f3()\n",
        "print(\"Hybrid inheritance\")\n",
        "class parent1:\n",
        "    def f1(self):\n",
        "        print(\"fun1\")\n",
        "class parent2:\n",
        "    def f4(self):\n",
        "        print(\"fun4\")\n",
        "class child1(parent1):\n",
        "    def f2(self):\n",
        "        print(\"fun2\")\n",
        "class child2(parent1,parent2):\n",
        "    def f3(self):\n",
        "        print(\"fun3\")\n",
        "ob=child2()\n",
        "ob.f1()\n",
        "ob.f4()\n",
        "print(\"Polymorphism\")\n",
        "class parent:\n",
        "    name=\"gowthami\"\n",
        "class child(parent):\n",
        "    name=\"vanga\"\n",
        "ob=child()\n",
        "ob.name\n",
        "class parent:\n",
        "    def name(self):\n",
        "        return 0\n",
        "class child(parent):\n",
        "    def name(self):\n",
        "        return 1\n",
        "ob=child()\n",
        "print(ob.name())\n",
        "ob=parent()\n",
        "print(ob.name())"
      ],
      "execution_count": null,
      "outputs": [
        {
          "output_type": "stream",
          "text": [
            "Single inheritance\n",
            "fun1\n",
            "Multiple inheritence\n",
            "fun1\n",
            "fun2\n",
            "Multilevel inheritance\n",
            "fun1\n",
            "fun2\n",
            "Hierarihcal inheritance\n",
            "fun1\n",
            "fun3\n",
            "Hybrid inheritance\n",
            "fun1\n",
            "fun4\n",
            "Polymorphism\n",
            "1\n",
            "0\n"
          ],
          "name": "stdout"
        }
      ]
    },
    {
      "cell_type": "markdown",
      "metadata": {
        "id": "VA1SeKSbLi2l"
      },
      "source": [
        "b) Write a program to implement Files\n"
      ]
    },
    {
      "cell_type": "code",
      "metadata": {
        "colab": {
          "base_uri": "https://localhost:8080/"
        },
        "id": "p_8XNuDKSJHU",
        "outputId": "ba5231ee-aa70-4667-b8d2-942bcff24d90"
      },
      "source": [
        "import os\n",
        "f1=open(\"t2.textt\",\"w\")\n",
        "f1.write(\"Hello World!\")\n",
        "f1.close()\n",
        "print(\"New file \\\"t2.text\\\"is created in the path.\")\n",
        "f1=open(\"t2.text\",\"a\")\n",
        "f1.write(\" Happy life\")\n",
        "f1.close()\n",
        "f1=open(\"t2.text\",\"r\")\n",
        "print(\"Filepointer position when it was opened: \", f1.tell())\n",
        "f1.seek(3)\n",
        "print(\"Filepointer position after seek(): \", f1.tell())\n",
        "print(\"Contents in file: \" , f1.read())\n",
        "print(\"Filepointer position after read(): \", f1.tell())\n",
        "f1.close()\n",
        "os.rename(\"t2.text\",\"t3.text\")\n",
        "os.remove(\"t3.text\")\n"
      ],
      "execution_count": null,
      "outputs": [
        {
          "output_type": "stream",
          "text": [
            "New file \"t2.text\"is created in the path.\n",
            "Filepointer position when it was opened:  0\n",
            "Filepointer position after seek():  3\n",
            "Contents in file:  ppy life\n",
            "Filepointer position after read():  11\n"
          ],
          "name": "stdout"
        }
      ]
    },
    {
      "cell_type": "markdown",
      "metadata": {
        "id": "lH1AQF7cLRi1"
      },
      "source": [
        "c) Write a program to illustrate Handling."
      ]
    },
    {
      "cell_type": "code",
      "metadata": {
        "colab": {
          "base_uri": "https://localhost:8080/"
        },
        "id": "tFnIaiRBRti1",
        "outputId": "a359f830-1ada-4da3-9f14-afdd2a23da83"
      },
      "source": [
        "try:\n",
        "    num=int(input(\"Enter numerator: \"))\n",
        "    den=int(input(\"enter denominator: \"))\n",
        "    q=num/den\n",
        "    print(\"Qutioent= \",q)\n",
        "except ZeroDivisionError:\n",
        "    print(\"Denominator is zero\")\n",
        "except ValueError:\n",
        "    print(\"Please eneter only digits\")\n",
        "finally:\n",
        "    print(\"this is finally block. this will be executed all the time..\");\n"
      ],
      "execution_count": null,
      "outputs": [
        {
          "output_type": "stream",
          "text": [
            "Enter numerator: 54678\n",
            "enter denominator: 28\n",
            "Qutioent=  1952.7857142857142\n",
            "this is finally block. this will be executed all the time..\n"
          ],
          "name": "stdout"
        }
      ]
    },
    {
      "cell_type": "markdown",
      "metadata": {
        "id": "piisqLh4MLHk"
      },
      "source": [
        "**Exercise-5**"
      ]
    },
    {
      "cell_type": "markdown",
      "metadata": {
        "id": "IJh62X68hpqM"
      },
      "source": [
        "Write a program using scikit-learn to implement K-means Clustering"
      ]
    },
    {
      "cell_type": "code",
      "metadata": {
        "colab": {
          "base_uri": "https://localhost:8080/",
          "height": 364
        },
        "id": "HlZ-w4d1olV7",
        "outputId": "790d3ab2-c1f8-4366-8e2e-2324902ddf8c"
      },
      "source": [
        "import matplotlib.pyplot as plt\n",
        "%matplotlib inline\n",
        "import numpy as np\n",
        "from sklearn.cluster import KMeans\n",
        "X = np.array([[5,3],\n",
        "     [20,85],\n",
        "     [45,82],\n",
        "     [14,90],\n",
        "     [30,35],\n",
        "     [85,85],\n",
        "     [71,98],\n",
        "     [69,78],\n",
        "     [25,52],\n",
        "     [90,91],])\n",
        "plt.scatter(X[:,0],X[:,1], label='True Position')\n",
        "kmeans = KMeans(n_clusters=2)\n",
        "kmeans.fit(X)\n",
        "print(kmeans.cluster_centers_)\n",
        "print(kmeans.labels_)\n",
        "plt.scatter(X[:,0],X[:,1], c=kmeans.labels_, cmap='rainbow')\n",
        "plt.scatter(X[:,0], X[:,1], c=kmeans.labels_, cmap='rainbow')\n",
        "plt.scatter(kmeans.cluster_centers_[:,0] ,kmeans.cluster_centers_[:,1], color='black')"
      ],
      "execution_count": null,
      "outputs": [
        {
          "output_type": "stream",
          "text": [
            "[[18.8 53. ]\n",
            " [72.  86.8]]\n",
            "[0 0 1 0 0 1 1 1 0 1]\n"
          ],
          "name": "stdout"
        },
        {
          "output_type": "execute_result",
          "data": {
            "text/plain": [
              "<matplotlib.collections.PathCollection at 0x7f3da1500d10>"
            ]
          },
          "metadata": {
            "tags": []
          },
          "execution_count": 3
        },
        {
          "output_type": "display_data",
          "data": {
            "image/png": "[encoded data removed]",
            "text/plain": [
              "<Figure size 432x288 with 1 Axes>"
            ]
          },
          "metadata": {
            "tags": [],
            "needs_background": "light"
          }
        }
      ]
    },
    {
      "cell_type": "markdown",
      "metadata": {
        "id": "HlP5LgY6OgSl"
      },
      "source": [
        "b) Program to calculate the entropy and the information gain"
      ]
    },
    {
      "cell_type": "code",
      "metadata": {
        "colab": {
          "base_uri": "https://localhost:8080/"
        },
        "id": "25mfo9AM_As9",
        "outputId": "ab1d1de0-c2c5-4542-b1a9-0c6106cd0300"
      },
      "source": [
        "#Entropy is randomness\n",
        "!pip install scipy"
      ],
      "execution_count": null,
      "outputs": [
        {
          "output_type": "stream",
          "text": [
            "Requirement already satisfied: scipy in /usr/local/lib/python3.7/dist-packages (1.4.1)\n",
            "Requirement already satisfied: numpy>=1.13.3 in /usr/local/lib/python3.7/dist-packages (from scipy) (1.19.5)\n"
          ],
          "name": "stdout"
        }
      ]
    },
    {
      "cell_type": "code",
      "metadata": {
        "id": "UjczJI7fBnfk"
      },
      "source": [
        "import pandas as pd\n",
        "import numpy as np\n",
        "from scipy.stats import entropy as en"
      ],
      "execution_count": null,
      "outputs": []
    },
    {
      "cell_type": "code",
      "metadata": {
        "colab": {
          "base_uri": "https://localhost:8080/"
        },
        "id": "azdblK4qCej_",
        "outputId": "d42547c8-7334-40e9-911f-a2affee49eab"
      },
      "source": [
        "a=[1,2,3,4,5]\n",
        "myvar=pd.Series(a)\n",
        "print(myvar)"
      ],
      "execution_count": null,
      "outputs": [
        {
          "output_type": "stream",
          "text": [
            "0    1\n",
            "1    2\n",
            "2    3\n",
            "3    4\n",
            "4    5\n",
            "dtype: int64\n"
          ],
          "name": "stdout"
        }
      ]
    },
    {
      "cell_type": "markdown",
      "metadata": {
        "id": "r0fSUGECREIK"
      },
      "source": [
        "c) Program to implement perceptron \n"
      ]
    },
    {
      "cell_type": "code",
      "metadata": {
        "id": "1vdiYSX3RFHZ"
      },
      "source": [
        "import numpy as np"
      ],
      "execution_count": null,
      "outputs": []
    },
    {
      "cell_type": "code",
      "metadata": {
        "id": "YDz8rSZPifWj"
      },
      "source": [
        "class Perceptron:\n",
        "  def __init__(self,learning_rate=0.01,n_inters=1000):\n",
        "    self.lr=learning_rate\n",
        "    self.n_inters=n_inters\n",
        "    self.activation_func=self._unit_step_func\n",
        "    self.weights=None\n",
        "    self.bias=None\n",
        "  def fit(self,X,y):\n",
        "    n_samples,n_features=X.shape\n",
        "    self.weights=np.zeros(n_features)\n",
        "    self.bias=0\n",
        "    y_=np.array([1 if i>0 else 0 for i in y])\n",
        "    for _ in range(self.n_inters):\n",
        "      for idx,x_i in enumerate(X):\n",
        "        linear_output=np.dot(x_i,self.weights)+self.bias\n",
        "        y_predicted=self.activation_func(linear_output)\n",
        "        update=self.lr*(y_[idx]-y_predicted)\n",
        "        self.weights+=update*x_i\n",
        "        self.bias+=update\n",
        "    \n",
        "  def predict(self,X):\n",
        "    linear_output=np.dot(X,self.weights)+self.bias\n",
        "    y_predicted=self.activation_func(linear_output)\n",
        "    return y_predicted\n",
        "\n",
        "  def _unit_step_func(self,x):\n",
        "    return np.where(x>=0,1,0)\n",
        "    "
      ],
      "execution_count": null,
      "outputs": []
    },
    {
      "cell_type": "markdown",
      "metadata": {
        "id": "rhvO-CtjRX7L"
      },
      "source": [
        "**Exercise 6**"
      ]
    },
    {
      "cell_type": "markdown",
      "metadata": {
        "id": "bA3uIrR_RX4I"
      },
      "source": [
        "a) Generate a decision tree. Find the Depth of decision trees and observe the results, then propose some changes in DecisionTreeClassifier function to limit. \n"
      ]
    },
    {
      "cell_type": "code",
      "metadata": {
        "colab": {
          "base_uri": "https://localhost:8080/"
        },
        "id": "vWz2gs8Zs4aV",
        "outputId": "7b261f94-b39d-49a9-ad77-3f1e806be6cf"
      },
      "source": [
        "class Node:\n",
        " \n",
        "   \n",
        "    def __init__(self, data):\n",
        "        self.data = data\n",
        "        self.left = None\n",
        "        self.right = None\n",
        " \n",
        "\n",
        "def maxDepth(node):\n",
        "    if node is None:\n",
        "        return 0 ;\n",
        " \n",
        "    else :\n",
        "        lDepth = maxDepth(node.left)\n",
        "        rDepth = maxDepth(node.right)\n",
        " \n",
        "        \n",
        "        if (lDepth > rDepth):\n",
        "            return lDepth+1\n",
        "        else:\n",
        "            return rDepth+1\n",
        " \n",
        " \n",
        "\n",
        "root = Node(20)\n",
        "root.left = Node(30)\n",
        "root.right = Node(48)\n",
        "root.left.left = Node(15)\n",
        "root.left.right = Node(50)\n",
        " \n",
        " \n",
        "print (\"Height of tree is %d\" %(maxDepth(root)))"
      ],
      "execution_count": null,
      "outputs": [
        {
          "output_type": "stream",
          "text": [
            "Height of tree is 3\n"
          ],
          "name": "stdout"
        }
      ]
    },
    {
      "cell_type": "markdown",
      "metadata": {
        "id": "APdJptbXRX2C"
      },
      "source": [
        "b) Occupancy estimator using random forest\n"
      ]
    },
    {
      "cell_type": "code",
      "metadata": {
        "id": "BhI10b7WRoNn"
      },
      "source": [
        ""
      ],
      "execution_count": null,
      "outputs": []
    },
    {
      "cell_type": "markdown",
      "metadata": {
        "id": "NKanZiO3Ro09"
      },
      "source": [
        "**Exercise 7**"
      ]
    },
    {
      "cell_type": "markdown",
      "metadata": {
        "id": "b5aNk3yfR26m"
      },
      "source": [
        "a) Calculating with matrices using numpy : inv, pinv, matrix_rank, solve, lstsq, svd, transpose, eig, sort, linspace, meshgrid, mgrid, ogrid, concatenate, tile, squeeze, integrate\n"
      ]
    },
    {
      "cell_type": "code",
      "metadata": {
        "id": "Sijv5cTAR0Kn"
      },
      "source": [
        "import numpy as np\n"
      ],
      "execution_count": null,
      "outputs": []
    },
    {
      "cell_type": "code",
      "metadata": {
        "colab": {
          "base_uri": "https://localhost:8080/"
        },
        "id": "xmJ6j0Ca0biH",
        "outputId": "36073b74-e7b0-45e9-c055-e9e4cf9946ba"
      },
      "source": [
        "#inv and pinv\n",
        "from numpy import linalg\n",
        "matrix = np.array([\n",
        "                [1,2,3,4],\n",
        "              [3,5,3,9],\n",
        "              [4,8,9,7],\n",
        "              [2,4,3,8]\n",
        "              ])\n",
        "\n",
        "print(\"Inverse of matrix:\\n\")\n",
        "print(linalg.inv(matrix))\n",
        "print(\"\\n\\n\")\n",
        "print(\"Pseudo Inverse of matrix:\\n\")\n",
        "print(linalg.pinv(matrix))"
      ],
      "execution_count": null,
      "outputs": [
        {
          "output_type": "stream",
          "text": [
            "Inverse of matrix:\n",
            "\n",
            "[[ 1.44444444e+00  2.00000000e+00 -2.22222222e-01 -2.77777778e+00]\n",
            " [-1.66666667e+00 -1.00000000e+00  3.33333333e-01  1.66666667e+00]\n",
            " [ 6.66666667e-01 -0.00000000e+00  1.85037171e-17 -3.33333333e-01]\n",
            " [ 2.22222222e-01  0.00000000e+00 -1.11111111e-01  1.11111111e-01]]\n",
            "\n",
            "\n",
            "\n",
            "Pseudo Inverse of matrix:\n",
            "\n",
            "[[ 1.44444444e+00  2.00000000e+00 -2.22222222e-01 -2.77777778e+00]\n",
            " [-1.66666667e+00 -1.00000000e+00  3.33333333e-01  1.66666667e+00]\n",
            " [ 6.66666667e-01 -6.84057821e-17 -8.38555978e-17 -3.33333333e-01]\n",
            " [ 2.22222222e-01  2.81308119e-17 -1.11111111e-01  1.11111111e-01]]\n"
          ],
          "name": "stdout"
        }
      ]
    },
    {
      "cell_type": "code",
      "metadata": {
        "colab": {
          "base_uri": "https://localhost:8080/"
        },
        "id": "7uyIIQcb2GXu",
        "outputId": "01747e5e-411a-43f8-98f7-2c7edfc45917"
      },
      "source": [
        "#solve\n",
        "a = np.array([[1, 2], [3, 5]])\n",
        "b = np.array([1, 2])\n",
        "x = np.linalg.solve(a, b)\n",
        "x\n"
      ],
      "execution_count": null,
      "outputs": [
        {
          "output_type": "execute_result",
          "data": {
            "text/plain": [
              "array([-1.,  1.])"
            ]
          },
          "metadata": {
            "tags": []
          },
          "execution_count": 190
        }
      ]
    },
    {
      "cell_type": "code",
      "metadata": {
        "colab": {
          "base_uri": "https://localhost:8080/"
        },
        "id": "ZOe6mDfo29JQ",
        "outputId": "47801c75-81db-42dd-c762-fa78f97c6409"
      },
      "source": [
        "#matrix_rank\n",
        "from numpy.linalg import matrix_rank\n",
        "matrix_rank(np.eye(4)) \n",
        "I=np.eye(4); I[-1,-1] = 0. \n",
        "matrix_rank(I)\n",
        "matrix_rank(np.ones((4,)))\n",
        "matrix_rank(np.zeros((4,)))"
      ],
      "execution_count": null,
      "outputs": [
        {
          "output_type": "execute_result",
          "data": {
            "text/plain": [
              "0"
            ]
          },
          "metadata": {
            "tags": []
          },
          "execution_count": 191
        }
      ]
    },
    {
      "cell_type": "code",
      "metadata": {
        "colab": {
          "base_uri": "https://localhost:8080/"
        },
        "id": "0UfahPbo29GA",
        "outputId": "3abaef36-da3d-4bd7-f35c-b14bc67adb97"
      },
      "source": [
        "#tile\n",
        "a = np.array([0, 1, 2])\n",
        "np.tile(a, 2)"
      ],
      "execution_count": null,
      "outputs": [
        {
          "output_type": "execute_result",
          "data": {
            "text/plain": [
              "array([0, 1, 2, 0, 1, 2])"
            ]
          },
          "metadata": {
            "tags": []
          },
          "execution_count": 192
        }
      ]
    },
    {
      "cell_type": "code",
      "metadata": {
        "colab": {
          "base_uri": "https://localhost:8080/"
        },
        "id": "xXzj90fq3_bQ",
        "outputId": "39f67078-9050-4fe2-97de-e69cf308d426"
      },
      "source": [
        "#sort\n",
        "a = np.array([[1,4],[3,1]])\n",
        "np.sort(a)      \n",
        "np.sort(a, axis=None)\n",
        "np.sort(a, axis=0)   "
      ],
      "execution_count": null,
      "outputs": [
        {
          "output_type": "execute_result",
          "data": {
            "text/plain": [
              "array([[1, 1],\n",
              "       [3, 4]])"
            ]
          },
          "metadata": {
            "tags": []
          },
          "execution_count": 193
        }
      ]
    },
    {
      "cell_type": "code",
      "metadata": {
        "colab": {
          "base_uri": "https://localhost:8080/"
        },
        "id": "9HJqAKSG4vuQ",
        "outputId": "cbfbd1e8-c43e-4380-9ef2-abc487b8298b"
      },
      "source": [
        "#mgrid\n",
        "np.mgrid[0:5,0:5]"
      ],
      "execution_count": null,
      "outputs": [
        {
          "output_type": "execute_result",
          "data": {
            "text/plain": [
              "array([[[0, 0, 0, 0, 0],\n",
              "        [1, 1, 1, 1, 1],\n",
              "        [2, 2, 2, 2, 2],\n",
              "        [3, 3, 3, 3, 3],\n",
              "        [4, 4, 4, 4, 4]],\n",
              "\n",
              "       [[0, 1, 2, 3, 4],\n",
              "        [0, 1, 2, 3, 4],\n",
              "        [0, 1, 2, 3, 4],\n",
              "        [0, 1, 2, 3, 4],\n",
              "        [0, 1, 2, 3, 4]]])"
            ]
          },
          "metadata": {
            "tags": []
          },
          "execution_count": 194
        }
      ]
    },
    {
      "cell_type": "code",
      "metadata": {
        "colab": {
          "base_uri": "https://localhost:8080/"
        },
        "id": "va4UUEeZ4zgj",
        "outputId": "e6d25a62-762a-4bb4-83b6-9ede849a3eac"
      },
      "source": [
        "np.mgrid[-1:1:5j]"
      ],
      "execution_count": null,
      "outputs": [
        {
          "output_type": "execute_result",
          "data": {
            "text/plain": [
              "array([-1. , -0.5,  0. ,  0.5,  1. ])"
            ]
          },
          "metadata": {
            "tags": []
          },
          "execution_count": 195
        }
      ]
    },
    {
      "cell_type": "markdown",
      "metadata": {
        "id": "nqUq_bFBR9Cr"
      },
      "source": [
        "**Exercise 8**"
      ]
    },
    {
      "cell_type": "markdown",
      "metadata": {
        "id": "kC9Qz57qSFbO"
      },
      "source": [
        "a) Program using panda "
      ]
    },
    {
      "cell_type": "code",
      "metadata": {
        "colab": {
          "base_uri": "https://localhost:8080/"
        },
        "id": "few9kM5bSB8_",
        "outputId": "4d653c23-bd12-440a-f780-0659bd35086b"
      },
      "source": [
        "#DataFrame\n",
        "import pandas as pd\n",
        "X= {'Day':[1,2,3,4,5,6], \"Visitors\":[1000, 700,6000,1000,400,350], \"Bounce_Rate\":[20,20, 23,15,10,34]}\n",
        "df= pd.DataFrame(X)\n",
        "print(df)\n",
        "#Series\n",
        "print(\"SERIES\")\n",
        "a = [1, 7, 2]\n",
        "myvar = pd.Series(a)\n",
        "print(myvar)\n"
      ],
      "execution_count": null,
      "outputs": [
        {
          "output_type": "stream",
          "text": [
            "   Day  Visitors  Bounce_Rate\n",
            "0    1      1000           20\n",
            "1    2       700           20\n",
            "2    3      6000           23\n",
            "3    4      1000           15\n",
            "4    5       400           10\n",
            "5    6       350           34\n",
            "SERIES\n",
            "0    1\n",
            "1    7\n",
            "2    2\n",
            "dtype: int64\n"
          ],
          "name": "stdout"
        }
      ]
    },
    {
      "cell_type": "markdown",
      "metadata": {
        "id": "S1fZYkICTAg1"
      },
      "source": [
        "b) Program using matplotlib – use minimum 5 plotting techniques "
      ]
    },
    {
      "cell_type": "code",
      "metadata": {
        "colab": {
          "base_uri": "https://localhost:8080/",
          "height": 265
        },
        "id": "Si_Ok5UyTB2W",
        "outputId": "3aa84968-2402-432d-d266-35af437bf40b"
      },
      "source": [
        "#line plot\n",
        "import matplotlib.pyplot as plt\n",
        "import numpy as np\n",
        "\n",
        "ypoints = np.array([1,2,3,4,5])\n",
        "\n",
        "plt.plot(ypoints, color = 'blue')\n",
        "plt.show()"
      ],
      "execution_count": null,
      "outputs": [
        {
          "output_type": "display_data",
          "data": {
            "image/png": "[encoded data removed]",
            "text/plain": [
              "<Figure size 432x288 with 1 Axes>"
            ]
          },
          "metadata": {
            "tags": [],
            "needs_background": "light"
          }
        }
      ]
    },
    {
      "cell_type": "code",
      "metadata": {
        "colab": {
          "base_uri": "https://localhost:8080/",
          "height": 265
        },
        "id": "gsOz153cTp3b",
        "outputId": "06d153ca-d3ed-4688-96e2-63dbe46a3b91"
      },
      "source": [
        "#SCATTER PLOT\n",
        "import matplotlib.pyplot as plt\n",
        "import numpy as np\n",
        "\n",
        "x = np.array([5,7,8,7,2,17,2,9,4,11,12,9,6])\n",
        "y = np.array([99,86,87,88,111,86,103,87,94,78,54,67,86])\n",
        "\n",
        "plt.scatter(x, y)\n",
        "plt.show()"
      ],
      "execution_count": null,
      "outputs": [
        {
          "output_type": "display_data",
          "data": {
            "image/png": "[encoded data removed]",
            "text/plain": [
              "<Figure size 432x288 with 1 Axes>"
            ]
          },
          "metadata": {
            "tags": [],
            "needs_background": "light"
          }
        }
      ]
    },
    {
      "cell_type": "code",
      "metadata": {
        "colab": {
          "base_uri": "https://localhost:8080/",
          "height": 265
        },
        "id": "ZZ7XjuSNUDvl",
        "outputId": "b2969f6a-c1a3-4e2f-bf9b-daf3f06230a0"
      },
      "source": [
        "#BAR GRAPH\n",
        "import matplotlib.pyplot as plt\n",
        "import numpy as np\n",
        "\n",
        "x = np.array([\"A\", \"B\", \"C\", \"D\"])\n",
        "y = np.array([3, 8, 1, 10])\n",
        "\n",
        "plt.bar(x, y, color = \"blue\")\n",
        "plt.show()"
      ],
      "execution_count": null,
      "outputs": [
        {
          "output_type": "display_data",
          "data": {
            "image/png": "[encoded data removed]",
            "text/plain": [
              "<Figure size 432x288 with 1 Axes>"
            ]
          },
          "metadata": {
            "tags": [],
            "needs_background": "light"
          }
        }
      ]
    },
    {
      "cell_type": "code",
      "metadata": {
        "colab": {
          "base_uri": "https://localhost:8080/",
          "height": 265
        },
        "id": "W8KV_Lv2UDk9",
        "outputId": "93431021-0b6d-414b-8e5b-d16531c5e487"
      },
      "source": [
        "#HISTOGRAM\n",
        "import matplotlib.pyplot as plt\n",
        "import numpy as np\n",
        "\n",
        "x = np.random.normal(170, 10, 250)\n",
        "\n",
        "plt.hist(x)\n",
        "plt.show() "
      ],
      "execution_count": null,
      "outputs": [
        {
          "output_type": "display_data",
          "data": {
            "image/png": "[encoded data removed]",
            "text/plain": [
              "<Figure size 432x288 with 1 Axes>"
            ]
          },
          "metadata": {
            "tags": [],
            "needs_background": "light"
          }
        }
      ]
    },
    {
      "cell_type": "code",
      "metadata": {
        "colab": {
          "base_uri": "https://localhost:8080/",
          "height": 248
        },
        "id": "bmhHMb9xUoNb",
        "outputId": "76b2e49a-7b94-45e6-dbca-2c965cd8e2f8"
      },
      "source": [
        "#PIE CHART\n",
        "import matplotlib.pyplot as plt\n",
        "import numpy as np\n",
        "\n",
        "y = np.array([35, 25, 25, 15, 30])\n",
        "mylabels = [\"BMW\", \"AUDI\", \"FORD\", \"FERRARI\", \"BENZ\"]\n",
        "\n",
        "plt.pie(y, labels = mylabels)\n",
        "plt.show() "
      ],
      "execution_count": null,
      "outputs": [
        {
          "output_type": "display_data",
          "data": {
            "image/png": "[encoded data removed]",
            "text/plain": [
              "<Figure size 432x288 with 1 Axes>"
            ]
          },
          "metadata": {
            "tags": []
          }
        }
      ]
    },
    {
      "cell_type": "markdown",
      "metadata": {
        "id": "zrSuMqDAVDFa"
      },
      "source": [
        "**Exercise 9**"
      ]
    },
    {
      "cell_type": "markdown",
      "metadata": {
        "id": "tOP-M-XeVIeL"
      },
      "source": [
        "a) Graph using matplotlib"
      ]
    },
    {
      "cell_type": "code",
      "metadata": {
        "id": "1QAYkncpVNUS",
        "colab": {
          "base_uri": "https://localhost:8080/",
          "height": 299
        },
        "outputId": "1b0bf37b-3b3a-4d40-bedb-07e6abc62915"
      },
      "source": [
        "#Bar graph\n",
        "from matplotlib import pyplot as plt\n",
        " \n",
        "plt.bar([0.25,1.25,2.25,3.25,4.25],[50,40,70,80,20],\n",
        "label=\"BMW\",width=.5)\n",
        "plt.bar([.75,1.75,2.75,3.75,4.75],[80,20,20,50,60],\n",
        "label=\"Audi\", color='b',width=.5)\n",
        "plt.legend()\n",
        "plt.xlabel('Days')\n",
        "plt.ylabel('Distance (kms)')\n",
        "plt.title('Information')\n",
        "plt.show()"
      ],
      "execution_count": null,
      "outputs": [
        {
          "output_type": "display_data",
          "data": {
            "image/png": "[encoded data removed]",
            "text/plain": [
              "<Figure size 432x288 with 1 Axes>"
            ]
          },
          "metadata": {
            "tags": []
          }
        }
      ]
    },
    {
      "cell_type": "code",
      "metadata": {
        "colab": {
          "base_uri": "https://localhost:8080/",
          "height": 299
        },
        "id": "66gM8FjrxsxK",
        "outputId": "bc618dc0-0312-4ef3-d43e-8c384e10356e"
      },
      "source": [
        "#histogram\n",
        "import matplotlib.pyplot as plt\n",
        "population_age = [22,55,62,45,21,22,34,42,42,4,2,102,95,85,55,110,120,70,65,55,111,115,80,75,65,54,44,43,42,48]\n",
        "bins = [0,10,20,30,40,50,60,70,80,90,100]\n",
        "plt.hist(population_age, bins, histtype='bar', rwidth=0.8)\n",
        "plt.xlabel('age groups')\n",
        "plt.ylabel('Number of people')\n",
        "plt.title('Histogram')\n",
        "plt.show()"
      ],
      "execution_count": null,
      "outputs": [
        {
          "output_type": "display_data",
          "data": {
            "image/png": "[encoded data removed]",
            "text/plain": [
              "<Figure size 432x288 with 1 Axes>"
            ]
          },
          "metadata": {
            "tags": [],
            "needs_background": "light"
          }
        }
      ]
    },
    {
      "cell_type": "code",
      "metadata": {
        "colab": {
          "base_uri": "https://localhost:8080/",
          "height": 265
        },
        "id": "tSfRGnf6xspK",
        "outputId": "e5bee248-19e8-427d-c1a9-d6a89cb15c1a"
      },
      "source": [
        "import numpy as np\n",
        "t = np.arange(0., 5., 0.2)\n",
        "\n",
        "#Two or more lines\n",
        "plt.plot(t, t, 'b--', t, t**2, 'bs', t, t**3, 'r^')\n",
        "plt.show()"
      ],
      "execution_count": null,
      "outputs": [
        {
          "output_type": "display_data",
          "data": {
            "image/png": "[encoded data removed]",
            "text/plain": [
              "<Figure size 432x288 with 1 Axes>"
            ]
          },
          "metadata": {
            "tags": [],
            "needs_background": "light"
          }
        }
      ]
    },
    {
      "cell_type": "code",
      "metadata": {
        "colab": {
          "base_uri": "https://localhost:8080/",
          "height": 299
        },
        "id": "QLyAoMjwzMtz",
        "outputId": "ee4c86cc-3068-4552-c98e-23d4319b710f"
      },
      "source": [
        "from matplotlib import pyplot as plt\n",
        "from matplotlib import style\n",
        " \n",
        "style.use('ggplot')\n",
        "x = [4,8,12]\n",
        "y = [10,15,7]\n",
        "x2 = [6,7,11]\n",
        "y2 = [6,15,7]\n",
        "plt.plot(x,y,'g',label='line one', linewidth=5)\n",
        "plt.plot(x2,y2,'c',label='line two',linewidth=5)\n",
        "plt.title('Epic Info')\n",
        "plt.ylabel('Y axis')\n",
        "plt.xlabel('X axis')\n",
        "plt.legend()\n",
        "plt.grid(True,color='k')\n",
        "plt.show()"
      ],
      "execution_count": null,
      "outputs": [
        {
          "output_type": "display_data",
          "data": {
            "image/png": "[encoded data removed]",
            "text/plain": [
              "<Figure size 432x288 with 1 Axes>"
            ]
          },
          "metadata": {
            "tags": []
          }
        }
      ]
    },
    {
      "cell_type": "markdown",
      "metadata": {
        "id": "WT71__isV_nE"
      },
      "source": [
        "**Exercise 10**"
      ]
    },
    {
      "cell_type": "markdown",
      "metadata": {
        "id": "zeR1uS__WHFl"
      },
      "source": [
        "a) Vector using matplotlib\n"
      ]
    },
    {
      "cell_type": "code",
      "metadata": {
        "id": "9M9Nasvpbe94",
        "colab": {
          "base_uri": "https://localhost:8080/",
          "height": 261
        },
        "outputId": "9e5da726-2086-4b06-d966-eba51044be49"
      },
      "source": [
        "import numpy as np\n",
        "from matplotlib import pyplot as plt\n",
        "plt.rcParams[\"figure.figsize\"] = [7.00, 3.50]\n",
        "plt.rcParams[\"figure.autolayout\"] = True\n",
        "data = np.array([[2, 1], [-1, 2], [4, -1]])\n",
        "origin = np.array([[0, 0, 0], [0, 0, 0]])\n",
        "plt.quiver(*origin, data[:, 0], data[:, 1], color=['b', 'r', 'g'], scale=15)\n",
        "plt.show()"
      ],
      "execution_count": null,
      "outputs": [
        {
          "output_type": "display_data",
          "data": {
            "image/png": "[encoded data removed]",
            "text/plain": [
              "<Figure size 504x252 with 1 Axes>"
            ]
          },
          "metadata": {
            "tags": [],
            "needs_background": "light"
          }
        }
      ]
    },
    {
      "cell_type": "markdown",
      "metadata": {
        "id": "BP816F6wWjPG"
      },
      "source": [
        "**Exercise 11**"
      ]
    },
    {
      "cell_type": "markdown",
      "metadata": {
        "id": "3HiSmqWNWnQ-"
      },
      "source": [
        "a) Program to estimating occupancy using decision tree"
      ]
    },
    {
      "cell_type": "code",
      "metadata": {
        "id": "BJJdYW1bWmKN"
      },
      "source": [
        ""
      ],
      "execution_count": null,
      "outputs": []
    }
  ]
}